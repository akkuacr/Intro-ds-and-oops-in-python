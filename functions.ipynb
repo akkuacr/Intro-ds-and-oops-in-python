{
 "cells": [
  {
   "cell_type": "code",
   "execution_count": 13,
   "id": "6e4f826d-ca39-4373-b179-831c23abff7d",
   "metadata": {},
   "outputs": [
    {
     "name": "stdout",
     "output_type": "stream",
     "text": [
      "Hello World\n"
     ]
    }
   ],
   "source": [
    "Functions \n",
    "1. A block of organized ,reusable code to perform a particular action\n",
    "2. Provide better modularity\n",
    "3. Built-in functions include print(),input(),type(), etc.\n",
    "4. Syntax\n",
    "    def sum(a,b):\n",
    "        statement1\n",
    "        statement2\n",
    "        ..........\n",
    "        ..........\n",
    "        return result"
   ]
  },
  {
   "cell_type": "code",
   "execution_count": 16,
   "id": "3223bc05-64fe-4986-ae0c-709473e8ba4d",
   "metadata": {},
   "outputs": [
    {
     "name": "stdout",
     "output_type": "stream",
     "text": [
      "362880\n"
     ]
    }
   ],
   "source": [
    "def factorial (n):\n",
    "    res=1\n",
    "    for i in range(1,n):\n",
    "        res*=i;\n",
    "    return res;\n",
    "\n",
    "print(factorial(10))"
   ]
  },
  {
   "cell_type": "code",
   "execution_count": 17,
   "id": "cd7274ac-01ef-42b8-9774-f9fe4a6b01b5",
   "metadata": {},
   "outputs": [
    {
     "name": "stdout",
     "output_type": "stream",
     "text": [
      "Akash Chand\n",
      "35\n"
     ]
    }
   ],
   "source": [
    "#function Arguments\n",
    "def func(name,age=35):#default Parameter\n",
    "    print(name)\n",
    "    print(age) \n",
    "func(\"Akash Chand\")"
   ]
  },
  {
   "cell_type": "code",
   "execution_count": 18,
   "id": "902394dc-5620-40dd-b1bf-4bf65371cd61",
   "metadata": {},
   "outputs": [
    {
     "name": "stdout",
     "output_type": "stream",
     "text": [
      "Jane\n",
      "25\n"
     ]
    }
   ],
   "source": [
    "func(\"Jane\",25)"
   ]
  },
  {
   "cell_type": "code",
   "execution_count": 19,
   "id": "b503b3b9-53d9-4ca8-99d5-4b16db17610d",
   "metadata": {},
   "outputs": [
    {
     "data": {
      "text/plain": [
       "'even'"
      ]
     },
     "execution_count": 19,
     "metadata": {},
     "output_type": "execute_result"
    }
   ],
   "source": [
    "#Lambda function\n",
    "f= lambda x: \"even\" if x%2==0 else \"Odd\"\n",
    "f(10)"
   ]
  },
  {
   "cell_type": "code",
   "execution_count": 21,
   "id": "539404f8-1745-46da-b3a1-88ea25dedf46",
   "metadata": {},
   "outputs": [
    {
     "name": "stdout",
     "output_type": "stream",
     "text": [
      "(1, 3, 'abc')\n"
     ]
    }
   ],
   "source": [
    "#we can pass many values in form of tuples using *\n",
    "def var_func(*args):\n",
    "     print(args)\n",
    "var_func(1,3,\"abc\")"
   ]
  },
  {
   "cell_type": "code",
   "execution_count": 30,
   "id": "46a2fbcb-3045-4294-9e57-5d255a14388a",
   "metadata": {},
   "outputs": [
    {
     "name": "stdout",
     "output_type": "stream",
     "text": [
      "[-1, -1, -1, -1, -1]\n"
     ]
    }
   ],
   "source": [
    "def list_diff(list1 ,list2):\n",
    "    l3=[]\n",
    "    for i in range(0,len(list1)):\n",
    "       l3.append(list1[i]-list2[i])\n",
    "    return l3\n",
    "l1=[1,2,3,4,5]\n",
    "l2=[2,3,4,5,6]\n",
    "\n",
    "print(list_diff(l1,l2))"
   ]
  },
  {
   "cell_type": "code",
   "execution_count": null,
   "id": "c400eb2a-98b7-46b3-99c2-538205511a0a",
   "metadata": {},
   "outputs": [],
   "source": []
  }
 ],
 "metadata": {
  "kernelspec": {
   "display_name": "Python 3 (ipykernel)",
   "language": "python",
   "name": "python3"
  },
  "language_info": {
   "codemirror_mode": {
    "name": "ipython",
    "version": 3
   },
   "file_extension": ".py",
   "mimetype": "text/x-python",
   "name": "python",
   "nbconvert_exporter": "python",
   "pygments_lexer": "ipython3",
   "version": "3.10.8"
  }
 },
 "nbformat": 4,
 "nbformat_minor": 5
}
