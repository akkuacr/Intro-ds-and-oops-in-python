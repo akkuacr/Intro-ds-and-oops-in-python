{
 "cells": [
  {
   "cell_type": "code",
   "execution_count": null,
   "id": "c05832f2-66df-4182-b50f-f30a6b42a139",
   "metadata": {},
   "outputs": [],
   "source": [
    "Map \n",
    "1.Utility function in python\n",
    "2. Maps a collection to another collection object based on certain functionality\n",
    "3. Syntax: map(function,iterable object)\n"
   ]
  },
  {
   "cell_type": "code",
   "execution_count": 10,
   "id": "28493bdc-e605-4255-9cd5-31d32df123d0",
   "metadata": {},
   "outputs": [],
   "source": [
    " countries = [\"India\",\"Japan\",\"Italy\",\"France\"]\n",
    "def upp(x):\n",
    "    return x.upper()\n",
    " l=list(map(upp,countries))   "
   ]
  },
  {
   "cell_type": "code",
   "execution_count": 11,
   "id": "861f671a-5672-4de4-925d-d252de2886cc",
   "metadata": {},
   "outputs": [
    {
     "data": {
      "text/plain": [
       "['INDIA', 'JAPAN', 'ITALY', 'FRANCE']"
      ]
     },
     "execution_count": 11,
     "metadata": {},
     "output_type": "execute_result"
    }
   ],
   "source": [
    "l"
   ]
  },
  {
   "cell_type": "code",
   "execution_count": 12,
   "id": "c3267309-a812-44c9-a473-212e35f6daa9",
   "metadata": {},
   "outputs": [
    {
     "data": {
      "text/plain": [
       "['INDIA', 'JAPAN', 'ITALY', 'FRANCE']"
      ]
     },
     "execution_count": 12,
     "metadata": {},
     "output_type": "execute_result"
    }
   ],
   "source": [
    "l1=list(map(lambda x:x.upper(),countries))\n",
    "l1"
   ]
  },
  {
   "cell_type": "code",
   "execution_count": 16,
   "id": "f3ca9d9b-1c60-4180-a4f3-13a5e4c61da9",
   "metadata": {},
   "outputs": [
    {
     "name": "stdout",
     "output_type": "stream",
     "text": [
      "['Aman', 'Akash']\n"
     ]
    }
   ],
   "source": [
    "\n",
    "# fiter(function,iterable object)\n",
    "# function here should return a boolean value\n",
    "\n",
    "name = ['Harshit','Aman','Akash']\n",
    "l1=list(filter(lambda x : x.startswith(\"A\"), name))\n",
    "print(l1)"
   ]
  },
  {
   "cell_type": "code",
   "execution_count": 17,
   "id": "28d679d3-1ba0-4612-8c79-3bafa4f7b254",
   "metadata": {},
   "outputs": [
    {
     "data": {
      "text/plain": [
       "'India Japan Italy France'"
      ]
     },
     "execution_count": 17,
     "metadata": {},
     "output_type": "execute_result"
    }
   ],
   "source": [
    "#reduce the list to concatenate the countries names into single string variable separated by\n",
    "from functools import reduce\n",
    "strinreduce(lambda x,y:x+\" \"+y,countries)\n"
   ]
  },
  {
   "cell_type": "code",
   "execution_count": null,
   "id": "dcbb4640-aecf-49bc-86af-4ad14ae3fa75",
   "metadata": {},
   "outputs": [],
   "source": []
  }
 ],
 "metadata": {
  "kernelspec": {
   "display_name": "Python 3 (ipykernel)",
   "language": "python",
   "name": "python3"
  },
  "language_info": {
   "codemirror_mode": {
    "name": "ipython",
    "version": 3
   },
   "file_extension": ".py",
   "mimetype": "text/x-python",
   "name": "python",
   "nbconvert_exporter": "python",
   "pygments_lexer": "ipython3",
   "version": "3.10.8"
  }
 },
 "nbformat": 4,
 "nbformat_minor": 5
}
