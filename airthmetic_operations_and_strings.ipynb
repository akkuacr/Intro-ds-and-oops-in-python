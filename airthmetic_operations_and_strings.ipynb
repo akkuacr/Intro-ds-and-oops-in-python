{
 "cells": [
  {
   "cell_type": "code",
   "execution_count": 1,
   "id": "973eb9d7-fd12-4207-b63b-25922cb74619",
   "metadata": {},
   "outputs": [
    {
     "name": "stdout",
     "output_type": "stream",
     "text": [
      "Addition= 13\n"
     ]
    }
   ],
   "source": [
    "a=6\n",
    "b=7\n",
    "print(\"Addition=\",a+b)"
   ]
  },
  {
   "cell_type": "code",
   "execution_count": 4,
   "id": "f84ea5a2-6c54-4de0-86b0-956a1670eaee",
   "metadata": {},
   "outputs": [
    {
     "name": "stdout",
     "output_type": "stream",
     "text": [
      "Subtraction= -1\n",
      "Multiplication 42\n",
      "floor Division 0\n",
      "Division 0.8571428571428571\n"
     ]
    }
   ],
   "source": [
    "print(\"Subtraction=\",a-b)\n",
    "print(\"Multiplication\",a*b)\n",
    "print(\"floor Division\",a//b)\n",
    "print(\"Division\",a/b)\n"
   ]
  },
  {
   "cell_type": "code",
   "execution_count": 5,
   "id": "a72facdc-fead-4254-80f8-42fd778c80e7",
   "metadata": {},
   "outputs": [
    {
     "name": "stdout",
     "output_type": "stream",
     "text": [
      "11.857142857142858\n"
     ]
    }
   ],
   "source": [
    "print((4*5)-9+6/7)"
   ]
  },
  {
   "cell_type": "code",
   "execution_count": 6,
   "id": "d5c50a5e-15bc-4ebb-8d92-5443de1dc8d3",
   "metadata": {},
   "outputs": [
    {
     "name": "stdout",
     "output_type": "stream",
     "text": [
      "ad\n"
     ]
    }
   ],
   "source": [
    "c='a'\n",
    "c=c+'d'\n",
    "print(c)"
   ]
  },
  {
   "cell_type": "code",
   "execution_count": 7,
   "id": "8ffe9c04-d544-45ba-9b78-e2a824051870",
   "metadata": {},
   "outputs": [
    {
     "data": {
      "text/plain": [
       "8"
      ]
     },
     "execution_count": 7,
     "metadata": {},
     "output_type": "execute_result"
    }
   ],
   "source": [
    "string = \"Abcdefgh\"\n",
    "len(string)"
   ]
  },
  {
   "cell_type": "code",
   "execution_count": 8,
   "id": "f4bb80df-4f73-43b3-b6fa-423d24c598c4",
   "metadata": {},
   "outputs": [
    {
     "data": {
      "text/plain": [
       "'A'"
      ]
     },
     "execution_count": 8,
     "metadata": {},
     "output_type": "execute_result"
    }
   ],
   "source": [
    "#Acessing first Character\n",
    "string[0]"
   ]
  },
  {
   "cell_type": "code",
   "execution_count": 9,
   "id": "77d65b1d-9650-4f1d-bcdf-2053ba2ba853",
   "metadata": {},
   "outputs": [
    {
     "data": {
      "text/plain": [
       "'h'"
      ]
     },
     "execution_count": 9,
     "metadata": {},
     "output_type": "execute_result"
    }
   ],
   "source": [
    "#Acessing last index character\n",
    "string[-1]"
   ]
  },
  {
   "cell_type": "code",
   "execution_count": 10,
   "id": "dd5bb215-4712-470b-b2d0-2d98fe7953cc",
   "metadata": {},
   "outputs": [
    {
     "data": {
      "text/plain": [
       "'g'"
      ]
     },
     "execution_count": 10,
     "metadata": {},
     "output_type": "execute_result"
    }
   ],
   "source": [
    "string[-2]"
   ]
  },
  {
   "cell_type": "code",
   "execution_count": 11,
   "id": "474f67c2-1f2d-47b9-93fe-5da66af75540",
   "metadata": {},
   "outputs": [
    {
     "data": {
      "text/plain": [
       "'b'"
      ]
     },
     "execution_count": 11,
     "metadata": {},
     "output_type": "execute_result"
    }
   ],
   "source": [
    "string[-7]"
   ]
  },
  {
   "cell_type": "code",
   "execution_count": 12,
   "id": "04b118d3-a8b9-4350-a95f-1b4e56670b80",
   "metadata": {},
   "outputs": [
    {
     "data": {
      "text/plain": [
       "'A'"
      ]
     },
     "execution_count": 12,
     "metadata": {},
     "output_type": "execute_result"
    }
   ],
   "source": [
    "string[-8]"
   ]
  },
  {
   "cell_type": "code",
   "execution_count": 13,
   "id": "f9a68e9a-b8c6-4379-b015-49817654f757",
   "metadata": {},
   "outputs": [],
   "source": [
    "string=\"AKash\""
   ]
  },
  {
   "cell_type": "code",
   "execution_count": 14,
   "id": "9009fcb2-998d-4c87-b29f-e79f99234259",
   "metadata": {},
   "outputs": [
    {
     "name": "stdout",
     "output_type": "stream",
     "text": [
      "AKash\n"
     ]
    }
   ],
   "source": [
    "print(string)"
   ]
  },
  {
   "cell_type": "code",
   "execution_count": 15,
   "id": "8775a0a4-1942-43b0-943b-58ac96258f7c",
   "metadata": {},
   "outputs": [
    {
     "ename": "TypeError",
     "evalue": "'str' object does not support item assignment",
     "output_type": "error",
     "traceback": [
      "\u001b[0;31m---------------------------------------------------------------------------\u001b[0m",
      "\u001b[0;31mTypeError\u001b[0m                                 Traceback (most recent call last)",
      "Cell \u001b[0;32mIn[15], line 1\u001b[0m\n\u001b[0;32m----> 1\u001b[0m \u001b[43mstring\u001b[49m\u001b[43m[\u001b[49m\u001b[38;5;241;43m2\u001b[39;49m\u001b[43m]\u001b[49m\u001b[38;5;241m=\u001b[39m\u001b[38;5;124m'\u001b[39m\u001b[38;5;124mc\u001b[39m\u001b[38;5;124m'\u001b[39m\n",
      "\u001b[0;31mTypeError\u001b[0m: 'str' object does not support item assignment"
     ]
    }
   ],
   "source": [
    "string[2]='c'"
   ]
  },
  {
   "cell_type": "code",
   "execution_count": 16,
   "id": "3b5ff3b1-78a0-47af-b5e2-8d39fd1a3b83",
   "metadata": {},
   "outputs": [
    {
     "name": "stdout",
     "output_type": "stream",
     "text": [
      "Akash  Chand\n"
     ]
    }
   ],
   "source": [
    "first_name=\"Akash\"\n",
    "last_name=\"Chand\"\n",
    "print(first_name+\"  \"+\"Chand\")\n"
   ]
  },
  {
   "cell_type": "code",
   "execution_count": 18,
   "id": "99d9ce93-343a-44cb-adf1-c10aab468780",
   "metadata": {},
   "outputs": [
    {
     "name": "stdout",
     "output_type": "stream",
     "text": [
      "I am 30 years old\n"
     ]
    }
   ],
   "source": [
    "age=30\n",
    "print(\"I am \"+str(age)+\" years old\")\n"
   ]
  },
  {
   "cell_type": "code",
   "execution_count": 20,
   "id": "d3f3d02d-d91b-4348-8082-7f1b450b60e3",
   "metadata": {},
   "outputs": [
    {
     "ename": "NameError",
     "evalue": "name 'slices_statement' is not defined",
     "output_type": "error",
     "traceback": [
      "\u001b[0;31m---------------------------------------------------------------------------\u001b[0m",
      "\u001b[0;31mNameError\u001b[0m                                 Traceback (most recent call last)",
      "Cell \u001b[0;32mIn[20], line 3\u001b[0m\n\u001b[1;32m      1\u001b[0m statement\u001b[38;5;241m=\u001b[39m\u001b[38;5;124m\"\u001b[39m\u001b[38;5;124mPython Programing is fun\u001b[39m\u001b[38;5;124m\"\u001b[39m\n\u001b[1;32m      2\u001b[0m sliced_statement\u001b[38;5;241m=\u001b[39mstatement[\u001b[38;5;241m0\u001b[39m:\u001b[38;5;241m7\u001b[39m]\n\u001b[0;32m----> 3\u001b[0m \u001b[38;5;28mprint\u001b[39m(\u001b[43mslices_statement\u001b[49m)\n",
      "\u001b[0;31mNameError\u001b[0m: name 'slices_statement' is not defined"
     ]
    }
   ],
   "source": [
    "statement=\"Python Programing is fun\"\n",
    "sliced_statement=statement[0:7]\n",
    "print(slices_statement)\n",
    "\n"
   ]
  },
  {
   "cell_type": "code",
   "execution_count": 21,
   "id": "e9d2207f-dd9a-4ca5-a2ab-03aa449f146e",
   "metadata": {},
   "outputs": [
    {
     "name": "stdout",
     "output_type": "stream",
     "text": [
      "Python \n"
     ]
    }
   ],
   "source": [
    "print(sliced_statement)"
   ]
  },
  {
   "cell_type": "code",
   "execution_count": 22,
   "id": "13104383-8bd0-4f15-8534-d4fdbe1a7946",
   "metadata": {},
   "outputs": [
    {
     "name": "stdout",
     "output_type": "stream",
     "text": [
      "5 girls \n"
     ]
    }
   ],
   "source": [
    "batch='5 girls and 3 boys in a class'\n",
    "girls=batch[:8]\n",
    "print(girls)\n"
   ]
  },
  {
   "cell_type": "code",
   "execution_count": 23,
   "id": "848ea111-bda4-4190-b7e2-1f3f0b6aa769",
   "metadata": {},
   "outputs": [
    {
     "name": "stdout",
     "output_type": "stream",
     "text": [
      "rls and 3 boys in a class\n"
     ]
    }
   ],
   "source": [
    "girl=batch[4:]\n",
    "print(girl)"
   ]
  },
  {
   "cell_type": "code",
   "execution_count": 24,
   "id": "7c888ad1-1770-4b93-981d-766f89105312",
   "metadata": {},
   "outputs": [
    {
     "name": "stdout",
     "output_type": "stream",
     "text": [
      "True\n",
      "True\n"
     ]
    }
   ],
   "source": [
    "#in statement\n",
    "String = \"John did you attend the conference\"\n",
    "print('John'in String)\n",
    "print('David' not in String)"
   ]
  },
  {
   "cell_type": "code",
   "execution_count": 25,
   "id": "a173d6b6-6163-40ad-a611-f91ec38e25ca",
   "metadata": {},
   "outputs": [
    {
     "name": "stdout",
     "output_type": "stream",
     "text": [
      "abcdabcdabcdabcd\n"
     ]
    },
    {
     "ename": "NameError",
     "evalue": "name 'upper' is not defined",
     "output_type": "error",
     "traceback": [
      "\u001b[0;31m---------------------------------------------------------------------------\u001b[0m",
      "\u001b[0;31mNameError\u001b[0m                                 Traceback (most recent call last)",
      "Cell \u001b[0;32mIn[25], line 4\u001b[0m\n\u001b[1;32m      2\u001b[0m string\u001b[38;5;241m=\u001b[39m\u001b[38;5;124m\"\u001b[39m\u001b[38;5;124mabcd\u001b[39m\u001b[38;5;124m\"\u001b[39m\n\u001b[1;32m      3\u001b[0m \u001b[38;5;28mprint\u001b[39m(string\u001b[38;5;241m*\u001b[39m\u001b[38;5;241m4\u001b[39m)\n\u001b[0;32m----> 4\u001b[0m \u001b[43mupper\u001b[49m(string)\n\u001b[1;32m      5\u001b[0m \u001b[38;5;28mprint\u001b[39m(string)\n\u001b[1;32m      6\u001b[0m lower(string)\n",
      "\u001b[0;31mNameError\u001b[0m: name 'upper' is not defined"
     ]
    }
   ],
   "source": [
    "# other operation \n",
    "string=\"abcd\"\n",
    "print(string*4)\n",
    "upper(string)\n",
    "print(string)\n",
    "lower(string)\n",
    "print(string)\n"
   ]
  },
  {
   "cell_type": "code",
   "execution_count": null,
   "id": "c9abb94d-4dee-4a20-9bd7-4e1643ec0ef6",
   "metadata": {},
   "outputs": [],
   "source": []
  }
 ],
 "metadata": {
  "kernelspec": {
   "display_name": "Python 3 (ipykernel)",
   "language": "python",
   "name": "python3"
  },
  "language_info": {
   "codemirror_mode": {
    "name": "ipython",
    "version": 3
   },
   "file_extension": ".py",
   "mimetype": "text/x-python",
   "name": "python",
   "nbconvert_exporter": "python",
   "pygments_lexer": "ipython3",
   "version": "3.10.8"
  }
 },
 "nbformat": 4,
 "nbformat_minor": 5
}
