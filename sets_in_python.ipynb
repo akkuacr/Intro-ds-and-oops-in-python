{
 "cells": [
  {
   "cell_type": "code",
   "execution_count": 3,
   "id": "5e84505e-6237-432e-b81f-cb497dd91d31",
   "metadata": {},
   "outputs": [
    {
     "data": {
      "text/plain": [
       "{5, 6, 7, 8, 9}"
      ]
     },
     "execution_count": 3,
     "metadata": {},
     "output_type": "execute_result"
    }
   ],
   "source": [
    "#sets in python\n",
    "#Sets are a type of collection like lists and tuples ,storing mixed data\n",
    "# Sets are unordered\n",
    "# Sets does not allow duplicates\n",
    "\n",
    "l=[9,9,8,7,7,6,5]\n",
    "set_l=set(l)\n",
    "set_l\n"
   ]
  },
  {
   "cell_type": "code",
   "execution_count": 2,
   "id": "16146283-9e09-4be3-ad0e-1a04e80e53b9",
   "metadata": {},
   "outputs": [
    {
     "name": "stdout",
     "output_type": "stream",
     "text": [
      "{1, 2, 3, 4, 5, 6}\n"
     ]
    }
   ],
   "source": [
    "print(set_l)"
   ]
  },
  {
   "cell_type": "code",
   "execution_count": 4,
   "id": "4cccfd0a-8f67-4b2a-9c13-dd824c48e207",
   "metadata": {},
   "outputs": [
    {
     "data": {
      "text/plain": [
       "5"
      ]
     },
     "execution_count": 4,
     "metadata": {},
     "output_type": "execute_result"
    }
   ],
   "source": [
    "len(set_l)"
   ]
  },
  {
   "cell_type": "code",
   "execution_count": 5,
   "id": "8fb38cef-ae34-482d-a559-82c10a2faf78",
   "metadata": {},
   "outputs": [
    {
     "name": "stdout",
     "output_type": "stream",
     "text": [
      "{1, 2, 3, 4, 5}\n"
     ]
    }
   ],
   "source": [
    "#sets are mutable means you can add values but it is not necessary that it can store values but it is not necessary that it will store values in end\n",
    "\n",
    "a={1,2,3,4,4,4,5}\n",
    "print(a)\n"
   ]
  },
  {
   "cell_type": "code",
   "execution_count": 6,
   "id": "36436267-f04b-4940-abce-61305ae2a417",
   "metadata": {},
   "outputs": [],
   "source": [
    "a.add(19)"
   ]
  },
  {
   "cell_type": "code",
   "execution_count": 7,
   "id": "711b2e79-5913-4e4a-8753-8e2060d734cd",
   "metadata": {},
   "outputs": [
    {
     "name": "stdout",
     "output_type": "stream",
     "text": [
      "{1, 2, 3, 4, 5, 19}\n"
     ]
    }
   ],
   "source": [
    "print(a)"
   ]
  },
  {
   "cell_type": "code",
   "execution_count": 9,
   "id": "0c18d64a-388a-49d9-905d-9478cdac4fc3",
   "metadata": {},
   "outputs": [
    {
     "name": "stdout",
     "output_type": "stream",
     "text": [
      "{0, 1, 2, 3, 4, 9}\n",
      "{0, 1, 2, 3, 4, 9}\n"
     ]
    }
   ],
   "source": [
    "#Set operations in python\n",
    "#union\n",
    "a={0,2,3,4,4,9}\n",
    "b={1,3,2,3,4,9}\n",
    "print(a|b)\n",
    "print(a.union(b))\n"
   ]
  },
  {
   "cell_type": "code",
   "execution_count": 10,
   "id": "37db8514-e490-4dc3-a1f9-5be5593d9925",
   "metadata": {},
   "outputs": [
    {
     "name": "stdout",
     "output_type": "stream",
     "text": [
      "{9, 2, 3, 4}\n",
      "{9, 2, 3, 4}\n"
     ]
    }
   ],
   "source": [
    "#And operation in python\n",
    "print(a&b)\n",
    "print(a.intersection(b))"
   ]
  },
  {
   "cell_type": "code",
   "execution_count": 11,
   "id": "19c77d78-524e-4859-9eed-847e68f09117",
   "metadata": {},
   "outputs": [
    {
     "name": "stdout",
     "output_type": "stream",
     "text": [
      "{0}\n"
     ]
    }
   ],
   "source": [
    "#difference in sets\n",
    "print(a-b)\n"
   ]
  },
  {
   "cell_type": "code",
   "execution_count": null,
   "id": "2d603a45-f617-4c22-a08f-4134e600560e",
   "metadata": {},
   "outputs": [],
   "source": [
    "p"
   ]
  }
 ],
 "metadata": {
  "kernelspec": {
   "display_name": "Python 3 (ipykernel)",
   "language": "python",
   "name": "python3"
  },
  "language_info": {
   "codemirror_mode": {
    "name": "ipython",
    "version": 3
   },
   "file_extension": ".py",
   "mimetype": "text/x-python",
   "name": "python",
   "nbconvert_exporter": "python",
   "pygments_lexer": "ipython3",
   "version": "3.10.8"
  }
 },
 "nbformat": 4,
 "nbformat_minor": 5
}
