{
 "cells": [
  {
   "cell_type": "code",
   "execution_count": 3,
   "id": "162d26fd-b4e4-47e5-91b9-4958dd93b81a",
   "metadata": {},
   "outputs": [
    {
     "name": "stdout",
     "output_type": "stream",
     "text": [
      "['India', 23, 6, 'Mumbai']\n"
     ]
    }
   ],
   "source": [
    "#lists are ordere sequence of data\n",
    "#lists are written as comma separated elements within square brackets\n",
    "l=[\"India\",23,6,\"Mumbai\"]\n",
    "print(l)"
   ]
  },
  {
   "cell_type": "code",
   "execution_count": 4,
   "id": "eaf7db1c-0ae3-4935-be17-01f4667d03f1",
   "metadata": {},
   "outputs": [
    {
     "data": {
      "text/plain": [
       "'Chemistry'"
      ]
     },
     "execution_count": 4,
     "metadata": {},
     "output_type": "execute_result"
    }
   ],
   "source": [
    "l=[\"Chemistry\" , \"Biology\",(1989,2004),(\"Oreily\",\"Pearson\")]\n",
    "\n",
    "l[0]"
   ]
  },
  {
   "cell_type": "code",
   "execution_count": 5,
   "id": "4964514b-69f3-4266-aec0-b6b1947873c3",
   "metadata": {},
   "outputs": [
    {
     "data": {
      "text/plain": [
       "('Oreily', 'Pearson')"
      ]
     },
     "execution_count": 5,
     "metadata": {},
     "output_type": "execute_result"
    }
   ],
   "source": [
    "l[3]"
   ]
  },
  {
   "cell_type": "code",
   "execution_count": 6,
   "id": "656fc537-6105-4f9e-83a2-50d0980e1fdc",
   "metadata": {},
   "outputs": [
    {
     "data": {
      "text/plain": [
       "'Oreily'"
      ]
     },
     "execution_count": 6,
     "metadata": {},
     "output_type": "execute_result"
    }
   ],
   "source": [
    "l[3][0]\n"
   ]
  },
  {
   "cell_type": "code",
   "execution_count": 11,
   "id": "85f8af4f-13de-42a7-a8e8-2cc47ba7497e",
   "metadata": {},
   "outputs": [
    {
     "data": {
      "text/plain": [
       "['Chemistry', 'Biology', (1989, 2004)]"
      ]
     },
     "execution_count": 11,
     "metadata": {},
     "output_type": "execute_result"
    }
   ],
   "source": [
    "l[-1]\n",
    "#Slicing can also be done in list\n",
    "l[0:3]\n",
    "\n"
   ]
  },
  {
   "cell_type": "code",
   "execution_count": 15,
   "id": "b669655e-362a-448a-a476-8a61cb80bdf5",
   "metadata": {},
   "outputs": [
    {
     "name": "stdout",
     "output_type": "stream",
     "text": [
      "True\n",
      "False\n",
      "True\n"
     ]
    }
   ],
   "source": [
    "# membership operator in list\n",
    "\n",
    "l1=[1,2,3,4]\n",
    "print(1 in l1)\n",
    "print(5 in l1)\n",
    "print(6 not in l1)"
   ]
  },
  {
   "cell_type": "code",
   "execution_count": 16,
   "id": "f97b719e-2263-4e20-aaa0-fad7b0618f99",
   "metadata": {},
   "outputs": [
    {
     "name": "stdout",
     "output_type": "stream",
     "text": [
      "['Chemistry', 'Biology', (1989, 2004), ('Oreilly', 'Pearson'), 0, 9]\n"
     ]
    }
   ],
   "source": [
    "#List Concatenation\n",
    "l=[\"Chemistry\",\"Biology\",(1989,2004),(\"Oreilly\",\"Pearson\")]\n",
    "new_l=l+[0,9]\n",
    "print(new_l)\n"
   ]
  },
  {
   "cell_type": "code",
   "execution_count": 17,
   "id": "9949a5ed-917c-489d-9f70-dfaf1c6c8fa8",
   "metadata": {},
   "outputs": [
    {
     "name": "stdout",
     "output_type": "stream",
     "text": [
      "['Chemistry', 'Physics', (1989, 2004), ('Oreilly', 'Pearson')]\n"
     ]
    }
   ],
   "source": [
    "l[1]=\"Physics\"\n",
    "print(l)"
   ]
  },
  {
   "cell_type": "code",
   "execution_count": 18,
   "id": "915bf403-f43e-4af3-a996-87c89d8de426",
   "metadata": {},
   "outputs": [
    {
     "data": {
      "text/plain": [
       "['Chemistry', 'Biology', [1989, 2004], ('oreilly', 'Pearson'), 5, 8]"
      ]
     },
     "execution_count": 18,
     "metadata": {},
     "output_type": "execute_result"
    }
   ],
   "source": [
    "#lists are mutable \n",
    "#some major functions are \n",
    "#extend function\n",
    "#in extend function m concatenation elements ka hota h\n",
    "\n",
    "l=[\"Chemistry\",\"Biology\",[1989,2004],(\"oreilly\",\"Pearson\")]\n",
    "l.extend([5,8])\n",
    "l\n",
    "\n"
   ]
  },
  {
   "cell_type": "code",
   "execution_count": 19,
   "id": "b4316cfe-e291-4528-bbb8-d486eb67c359",
   "metadata": {},
   "outputs": [
    {
     "name": "stdout",
     "output_type": "stream",
     "text": [
      "['Chemistry', 'Biology', [1989, 2004], ('oreilly', 'Pearson'), [5, 8]]\n"
     ]
    }
   ],
   "source": [
    "#append function , as a list hi woh append hogi\n",
    "l=[\"Chemistry\",\"Biology\",[1989,2004],(\"oreilly\",\"Pearson\")]\n",
    "l.append([5,8])\n",
    "print(l)\n"
   ]
  },
  {
   "cell_type": "code",
   "execution_count": 20,
   "id": "4111d58c-eb34-46c7-a289-f2676dd01d26",
   "metadata": {},
   "outputs": [
    {
     "ename": "SyntaxError",
     "evalue": "cannot delete function call (3823820974.py, line 1)",
     "output_type": "error",
     "traceback": [
      "\u001b[0;36m  Cell \u001b[0;32mIn[20], line 1\u001b[0;36m\u001b[0m\n\u001b[0;31m    del l(0)\u001b[0m\n\u001b[0m        ^\u001b[0m\n\u001b[0;31mSyntaxError\u001b[0m\u001b[0;31m:\u001b[0m cannot delete function call\n"
     ]
    }
   ],
   "source": [
    "del l(0)"
   ]
  },
  {
   "cell_type": "code",
   "execution_count": 22,
   "id": "a3b2f667-0311-4185-a4b1-a093ac5624c5",
   "metadata": {},
   "outputs": [
    {
     "name": "stdout",
     "output_type": "stream",
     "text": [
      "[[1989, 2004], ('oreilly', 'Pearson'), [5, 8]]\n"
     ]
    }
   ],
   "source": [
    "#del command in list\n",
    "del l[0]\n",
    "print(l)"
   ]
  },
  {
   "cell_type": "code",
   "execution_count": 23,
   "id": "96eeb1ba-07ac-44f5-bf6e-90f89b6ae420",
   "metadata": {},
   "outputs": [
    {
     "name": "stdout",
     "output_type": "stream",
     "text": [
      "['Chemistry', 'Biology', [1989, 2004]]\n"
     ]
    }
   ],
   "source": [
    "#pop command in list\n",
    "l=[\"Chemistry\",\"Biology\",[1989,2004],(\"oreilly\",\"Pearson\")]\n",
    "l.pop()\n",
    "print(l)\n",
    "\n",
    "\n"
   ]
  },
  {
   "cell_type": "code",
   "execution_count": 24,
   "id": "81a052a5-c776-458a-be48-4fb1bea18d0e",
   "metadata": {},
   "outputs": [
    {
     "data": {
      "text/plain": [
       "['Biology', (1989, 2004), ('Oreilly', 'Pearson')]"
      ]
     },
     "execution_count": 24,
     "metadata": {},
     "output_type": "execute_result"
    }
   ],
   "source": [
    "#remove() command in list\n",
    "l=[\"Chemistry\",\"Biology\",(1989,2004),(\"Oreilly\",\"Pearson\")]\n",
    "l.remove(\"Chemistry\")\n",
    "l\n",
    "\n"
   ]
  },
  {
   "cell_type": "code",
   "execution_count": 26,
   "id": "c46a492c-5052-4d6e-a8d7-58da44b87c60",
   "metadata": {},
   "outputs": [
    {
     "name": "stdout",
     "output_type": "stream",
     "text": [
      "[9, 24, 32, 45]\n"
     ]
    }
   ],
   "source": [
    "#list are mutable so in sorting it can update the real list\n",
    "l=[32,24,45,9]\n",
    "l.sort()\n",
    "print(l)"
   ]
  },
  {
   "cell_type": "code",
   "execution_count": 27,
   "id": "7b43840c-f982-4f0a-8a33-1f96b15c1157",
   "metadata": {},
   "outputs": [
    {
     "name": "stdout",
     "output_type": "stream",
     "text": [
      "[9, 24, 32, 45]\n"
     ]
    }
   ],
   "source": [
    "#sorted function \n",
    "l=[32,24,45,9]\n",
    "l1=sorted(l)\n",
    "print(l1)"
   ]
  },
  {
   "cell_type": "code",
   "execution_count": 30,
   "id": "da0322ee-f158-4615-a93e-49aea202470e",
   "metadata": {},
   "outputs": [
    {
     "name": "stdout",
     "output_type": "stream",
     "text": [
      "['Apple', 'Strawberry', 'Mango']\n",
      "['Apple', 'Strawberry', 'Mango']\n"
     ]
    }
   ],
   "source": [
    "#Deep copying\n",
    "\n",
    "A=[\"Orange\",\"Strawberry\",\"Mango\"]\n",
    "B=A\n",
    "A[0]=\"Apple\"\n",
    "print(A)\n",
    "print(B)\n"
   ]
  },
  {
   "cell_type": "code",
   "execution_count": 32,
   "id": "c076c942-0b54-4422-92fa-7d054c787d83",
   "metadata": {},
   "outputs": [
    {
     "name": "stdout",
     "output_type": "stream",
     "text": [
      "['Orange', 'Strawberry', 'Mango']\n"
     ]
    }
   ],
   "source": [
    "# Shallow Copying\n",
    "A=[\"Orange\",\"Strawberry\",\"Mango\"]\n",
    "B=A[:]\n",
    "A[0]=\"Apple\"\n",
    "print(B)\n"
   ]
  },
  {
   "cell_type": "code",
   "execution_count": null,
   "id": "9d4a01f7-2181-424d-a187-a4e83f22ecfa",
   "metadata": {},
   "outputs": [],
   "source": []
  }
 ],
 "metadata": {
  "kernelspec": {
   "display_name": "Python 3 (ipykernel)",
   "language": "python",
   "name": "python3"
  },
  "language_info": {
   "codemirror_mode": {
    "name": "ipython",
    "version": 3
   },
   "file_extension": ".py",
   "mimetype": "text/x-python",
   "name": "python",
   "nbconvert_exporter": "python",
   "pygments_lexer": "ipython3",
   "version": "3.10.8"
  }
 },
 "nbformat": 4,
 "nbformat_minor": 5
}
