{
 "cells": [
  {
   "cell_type": "code",
   "execution_count": null,
   "id": "10081e4e-e53f-4e0d-9a8d-cef1542eec38",
   "metadata": {},
   "outputs": [],
   "source": [
    "#Dictionary starts\n",
    ". A dictionary stores elements as keys and values pairs.\n",
    ". The key is like an index , it is always unique and immutable\n",
    ". The values are the objects that contain information\n",
    ". Values are accessed using their keys \n",
    ". Each key is followed by a value supported by a colon\n",
    ". The  values can be immutable,mutable, and duplicate\n",
    ". Each key and vlue pair is separated by a comma enclosed inside curly brackets\n"
   ]
  },
  {
   "cell_type": "code",
   "execution_count": 1,
   "id": "61e6d554-ff90-418f-9351-83256c971cd6",
   "metadata": {},
   "outputs": [
    {
     "name": "stdout",
     "output_type": "stream",
     "text": [
      "INR\n"
     ]
    }
   ],
   "source": [
    "# Creating a dictionary\n",
    "d={\"India\":\"INR\",\"USA\":\"USD\",\"France\":\"Euros\"}\n",
    "print(d[\"India\"])\n"
   ]
  },
  {
   "cell_type": "code",
   "execution_count": 2,
   "id": "c7be8620-d1c6-4eb7-b03f-e2010ad803ef",
   "metadata": {},
   "outputs": [
    {
     "name": "stdout",
     "output_type": "stream",
     "text": [
      "{'India': 'INR', 'USA': 'USD', 'France': 'Euros', 'india': 'Dollar'}\n"
     ]
    }
   ],
   "source": [
    "#values of the key can be updated \n",
    "d[\"india\"]=\"Dollar\"\n",
    "print(d)"
   ]
  },
  {
   "cell_type": "code",
   "execution_count": 5,
   "id": "758302d4-93ca-4302-a291-653790584588",
   "metadata": {},
   "outputs": [
    {
     "name": "stdout",
     "output_type": "stream",
     "text": [
      "{'India': 'Dollar', 'USA': 'USD', 'France': 'Euros', 'india': 'Dollar'}\n"
     ]
    }
   ],
   "source": [
    "#Keys are used as index\n",
    "d[\"India\"]=\"Dollar\"\n",
    "print(d)"
   ]
  },
  {
   "cell_type": "code",
   "execution_count": 6,
   "id": "28c10f9c-1ed0-4f80-84d7-a722c5ec43b1",
   "metadata": {},
   "outputs": [
    {
     "name": "stdout",
     "output_type": "stream",
     "text": [
      "{'India': 'Dollar', 'USA': 'USD', 'France': 'Euros', 'india': 'Dollar', 'Dubai': 'Riyal'}\n"
     ]
    }
   ],
   "source": [
    "#insert a new character u can use\n",
    "d[\"Dubai\"]=\"Riyal\"\n",
    "print(d)"
   ]
  },
  {
   "cell_type": "code",
   "execution_count": null,
   "id": "35a308e0-348b-4e62-92dc-e66416cbebf1",
   "metadata": {},
   "outputs": [],
   "source": [
    "#values method\n",
    "d.values("
   ]
  }
 ],
 "metadata": {
  "kernelspec": {
   "display_name": "Python 3 (ipykernel)",
   "language": "python",
   "name": "python3"
  },
  "language_info": {
   "codemirror_mode": {
    "name": "ipython",
    "version": 3
   },
   "file_extension": ".py",
   "mimetype": "text/x-python",
   "name": "python",
   "nbconvert_exporter": "python",
   "pygments_lexer": "ipython3",
   "version": "3.10.8"
  }
 },
 "nbformat": 4,
 "nbformat_minor": 5
}
