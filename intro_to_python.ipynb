{
 "cells": [
  {
   "cell_type": "code",
   "execution_count": 2,
   "id": "5cec5e6b-7f1b-40a5-a307-ddb70f9df9b3",
   "metadata": {},
   "outputs": [
    {
     "name": "stdout",
     "output_type": "stream",
     "text": [
      "Hello World\n"
     ]
    }
   ],
   "source": [
    "print(\"Hello World\")"
   ]
  },
  {
   "cell_type": "code",
   "execution_count": 1,
   "id": "734f5728-ae2a-4635-be0a-7b7f64d86328",
   "metadata": {},
   "outputs": [],
   "source": [
    "#the blue colour outside the cell represents command mode\n",
    "#And the green color indicates edit mode.\n",
    "#press 'Esc' to get into command mode\n",
    "# press 'Enter' to go back into edit mode.\n",
    "# press 'P' to view the list of all available commands."
   ]
  },
  {
   "cell_type": "code",
   "execution_count": 3,
   "id": "f4c2a96c-4414-417a-9f57-7d5cc9f670ab",
   "metadata": {},
   "outputs": [
    {
     "name": "stdin",
     "output_type": "stream",
     "text": [
      "Enter your name akash\n"
     ]
    },
    {
     "name": "stdout",
     "output_type": "stream",
     "text": [
      "Hello akash\n"
     ]
    }
   ],
   "source": [
    "name= input(\"Enter your name\")\n",
    "print(\"Hello\",name)"
   ]
  },
  {
   "cell_type": "code",
   "execution_count": 5,
   "id": "7d7a05f9-4e9d-441a-9c9b-c322bad65ae1",
   "metadata": {},
   "outputs": [],
   "source": [
    "#This is a title\n",
    "##This is a heading\n",
    "### This is subheading\n",
    "#####This is as small as heading can get\n"
   ]
  },
  {
   "cell_type": "code",
   "execution_count": 6,
   "id": "8e65be78-814b-4383-81ab-bb4c14d1e884",
   "metadata": {},
   "outputs": [
    {
     "name": "stdout",
     "output_type": "stream",
     "text": [
      "mike\n"
     ]
    }
   ],
   "source": [
    "name=\"mike\";\n",
    "print(name)"
   ]
  },
  {
   "cell_type": "code",
   "execution_count": 7,
   "id": "544abffb-ab26-4bfb-bf03-5a1083b564b6",
   "metadata": {},
   "outputs": [
    {
     "name": "stdin",
     "output_type": "stream",
     "text": [
      "Enter yourn name Akash\n"
     ]
    },
    {
     "name": "stdout",
     "output_type": "stream",
     "text": [
      "Akash\n"
     ]
    }
   ],
   "source": [
    "name=input(\"Enter yourn name\")\n",
    "print(name)\n"
   ]
  },
  {
   "cell_type": "code",
   "execution_count": 8,
   "id": "7ac67ba5-091d-4898-8f25-312374732d0d",
   "metadata": {},
   "outputs": [
    {
     "data": {
      "text/plain": [
       "2"
      ]
     },
     "execution_count": 8,
     "metadata": {},
     "output_type": "execute_result"
    }
   ],
   "source": [
    "x=2.5\n",
    "int(x)"
   ]
  },
  {
   "cell_type": "code",
   "execution_count": 9,
   "id": "afb8742f-a03a-4e5f-8921-43ab617d6dd6",
   "metadata": {},
   "outputs": [
    {
     "data": {
      "text/plain": [
       "True"
      ]
     },
     "execution_count": 9,
     "metadata": {},
     "output_type": "execute_result"
    }
   ],
   "source": [
    "x=2.5\n",
    "bool(x)\n"
   ]
  }
 ],
 "metadata": {
  "kernelspec": {
   "display_name": "Python 3 (ipykernel)",
   "language": "python",
   "name": "python3"
  },
  "language_info": {
   "codemirror_mode": {
    "name": "ipython",
    "version": 3
   },
   "file_extension": ".py",
   "mimetype": "text/x-python",
   "name": "python",
   "nbconvert_exporter": "python",
   "pygments_lexer": "ipython3",
   "version": "3.10.8"
  }
 },
 "nbformat": 4,
 "nbformat_minor": 5
}
