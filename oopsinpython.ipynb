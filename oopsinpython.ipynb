{
 "cells": [
  {
   "cell_type": "code",
   "execution_count": 5,
   "id": "788dc038-aa86-48a1-b498-31f8219be786",
   "metadata": {},
   "outputs": [
    {
     "name": "stdout",
     "output_type": "stream",
     "text": [
      "Length = 10\n",
      "Breadth = 5\n"
     ]
    }
   ],
   "source": [
    "#oops in python\n",
    "# Objects\n",
    "# Every object have three things\n",
    "# 1.type\n",
    "# 2. internal Representation\n",
    "# 3. Methods\n",
    "\n",
    "#methods are function that you use on objects\n",
    "\n",
    "class Rectangle:\n",
    "    def __init__(self):\n",
    "        self.length = 10\n",
    "        self.breadth = 5\n",
    "        \n",
    "rect = Rectangle()\n",
    "print(\"Length =\", rect.length)\n",
    "print(\"Breadth =\", rect.breadth)\n",
    "\n",
    "\n",
    "\n",
    "\n"
   ]
  },
  {
   "cell_type": "code",
   "execution_count": 11,
   "id": "915187e9-0a57-435c-91a6-e8acaa5a1ae2",
   "metadata": {},
   "outputs": [
    {
     "name": "stdout",
     "output_type": "stream",
     "text": [
      "Length = 10\n",
      "Breadth = 6\n"
     ]
    }
   ],
   "source": [
    "# isme objects k khud k attributes v hum bhej skte h\n",
    "class Rectangle:\n",
    "    def __init__(self):\n",
    "        self.length =10\n",
    "        self.breadth = 6\n",
    "        \n",
    "rect = Rectangle()\n",
    "print(\"Length =\",rect.length)\n",
    "print(\"Breadth =\",rect.breadth)"
   ]
  },
  {
   "cell_type": "code",
   "execution_count": 15,
   "id": "4b1a0320-2fa1-40f3-8cb2-655b50d150a1",
   "metadata": {},
   "outputs": [
    {
     "name": "stdout",
     "output_type": "stream",
     "text": [
      "triangle sides are 1\n",
      "triangle sides are 2\n",
      "triangle sides are 3\n"
     ]
    }
   ],
   "source": [
    "class triangle :\n",
    "    def __init__(self,a,b,c):\n",
    "        self.a=a\n",
    "        self.b=b\n",
    "        self.c=c\n",
    "tri = triangle(1,2,3)\n",
    "print(\"triangle sides are\",tri.a)\n",
    "print(\"triangle sides are\",tri.b)\n",
    "print(\"triangle sides are\",tri.c)\n"
   ]
  },
  {
   "cell_type": "code",
   "execution_count": 24,
   "id": "abb22dad-a60a-4d87-8b77-7a803e9ce91c",
   "metadata": {},
   "outputs": [
    {
     "name": "stdout",
     "output_type": "stream",
     "text": [
      "Akash 23 Cs\n",
      "Mrs Jones\n",
      "Mrs Jones\n"
     ]
    }
   ],
   "source": [
    "#Class Variables and Instance Variable\n",
    "#class variables are mostly that variables which are same to all the instances of class\n",
    "#however instances variables varies instance to instance\n",
    "\n",
    "class Student:\n",
    "    teacher = 'Mrs Jones'\n",
    "    room = '103A'\n",
    "    def __init__(self,name,age,fav_sub):\n",
    "        self.name=name\n",
    "        self.age=age\n",
    "        self.fav_sub = fav_sub\n",
    "        \n",
    "    def show(self):\n",
    "        print(self.name,self.age,self.fav_sub)\n",
    "        \n",
    "\n",
    "        \n",
    "        \n",
    "St= Student(\"Akash\",23,\"Cs\")\n",
    "St.show()\n",
    "print(St.teacher)\n",
    "#you cannot manipulate the class variables using instance it can only be done using class\n",
    "Student.room ='123$'\n",
    "print(Student.teacher)\n",
    "\n",
    "#you can acess the class variables but it can only manipulate using class name\n",
    "\n",
    "\n",
    "\n",
    "\n",
    "\n",
    "\n"
   ]
  },
  {
   "cell_type": "code",
   "execution_count": 28,
   "id": "bcd037fc-4d12-4c4e-9b0b-a2dd8c281f82",
   "metadata": {},
   "outputs": [
    {
     "name": "stdout",
     "output_type": "stream",
     "text": [
      "Length = 9 \n",
      "breadth = 10 \n",
      "Area= 90\n"
     ]
    }
   ],
   "source": [
    "#Method are the function that can be used to manipulate the attributes of object and class\n",
    "#this are instance method\n",
    "class Rectangle:\n",
    "    def __init__(self,length,breadth):\n",
    "        self.length = length\n",
    "        self.breadth = breadth\n",
    "        \n",
    "    def calculate_area(self):\n",
    "        return (self.length * self.breadth)\n",
    "rect = Rectangle(9,10)\n",
    "print(\"Length =\" ,rect.length,\"\\nbreadth =\",rect.breadth,\"\\nArea=\",rect.calculate_area())\n"
   ]
  },
  {
   "cell_type": "code",
   "execution_count": null,
   "id": "a8d9f4f8-5bec-48e4-a244-191d7541c52f",
   "metadata": {},
   "outputs": [],
   "source": [
    "Class Methods\n",
    "1.Bound to class\n",
    "2.Recieve class object as the implicit first argument\n",
    "3. 'cls' parameter represents the class object\n",
    "Static Methods\n",
    "1.Bound to class\n",
    "2.Doesn't require any implicit first argument\n",
    "3. Implementing functionality having logical connection to the class\n"
   ]
  },
  {
   "cell_type": "code",
   "execution_count": 30,
   "id": "fbebcc33-1282-449a-88b8-aef6f08760c2",
   "metadata": {},
   "outputs": [
    {
     "name": "stdout",
     "output_type": "stream",
     "text": [
      "15.700000000000001\n"
     ]
    }
   ],
   "source": [
    "class Circle :\n",
    "    pi = 3.14\n",
    "    def __init__(self,radius):\n",
    "        self.radius=radius\n",
    "    \n",
    "    #Instance method\n",
    "    def calculate_area(self):\n",
    "         return Circle.pi * self.radius\n",
    "    \n",
    "    #Class Method\n",
    "    @classmethod\n",
    "    def access_pi(cls):\n",
    "        cls.pi = 3.1436\n",
    "        return cls.pi\n",
    "    \n",
    "    #static method\n",
    "    @staticmethod\n",
    "    def circle_static_method():\n",
    "        print(\"This a static mthod\")\n",
    "\n",
    "cir = Circle(5)\n",
    "# calling the instance method\n",
    "print(cir.calculate_area())"
   ]
  },
  {
   "cell_type": "code",
   "execution_count": 31,
   "id": "7615e85b-7e9d-42f5-a4ef-b0af4314cb6a",
   "metadata": {},
   "outputs": [
    {
     "data": {
      "text/plain": [
       "3.14"
      ]
     },
     "execution_count": 31,
     "metadata": {},
     "output_type": "execute_result"
    }
   ],
   "source": [
    "Circle.pi"
   ]
  },
  {
   "cell_type": "code",
   "execution_count": 32,
   "id": "822efff2-1dd8-4247-8a22-543fb30bcb15",
   "metadata": {},
   "outputs": [
    {
     "data": {
      "text/plain": [
       "3.1436"
      ]
     },
     "execution_count": 32,
     "metadata": {},
     "output_type": "execute_result"
    }
   ],
   "source": [
    "#calling the class method\n",
    "Circle.access_pi()"
   ]
  },
  {
   "cell_type": "code",
   "execution_count": null,
   "id": "9ef82c31-9ce0-4b72-aaa7-40a8837192fc",
   "metadata": {},
   "outputs": [],
   "source": []
  }
 ],
 "metadata": {
  "kernelspec": {
   "display_name": "Python 3 (ipykernel)",
   "language": "python",
   "name": "python3"
  },
  "language_info": {
   "codemirror_mode": {
    "name": "ipython",
    "version": 3
   },
   "file_extension": ".py",
   "mimetype": "text/x-python",
   "name": "python",
   "nbconvert_exporter": "python",
   "pygments_lexer": "ipython3",
   "version": "3.10.8"
  }
 },
 "nbformat": 4,
 "nbformat_minor": 5
}
