{
 "cells": [
  {
   "cell_type": "code",
   "execution_count": 1,
   "id": "aacb9ae9-90d6-4300-ba65-1df9454abe97",
   "metadata": {},
   "outputs": [
    {
     "data": {
      "text/plain": [
       "True"
      ]
     },
     "execution_count": 1,
     "metadata": {},
     "output_type": "execute_result"
    }
   ],
   "source": [
    "10 == 10"
   ]
  },
  {
   "cell_type": "code",
   "execution_count": 2,
   "id": "7d33c30b-426c-4bf7-b2f7-2ed057e89f35",
   "metadata": {},
   "outputs": [],
   "source": [
    "y=10"
   ]
  },
  {
   "cell_type": "code",
   "execution_count": 3,
   "id": "b42a81a0-d237-4bcf-acaa-90eb374efe3a",
   "metadata": {},
   "outputs": [
    {
     "name": "stdout",
     "output_type": "stream",
     "text": [
      "10\n"
     ]
    }
   ],
   "source": [
    "print(y)\n"
   ]
  },
  {
   "cell_type": "code",
   "execution_count": 4,
   "id": "1a6da2c1-ec81-4b27-b75b-b2016dd199cf",
   "metadata": {},
   "outputs": [
    {
     "data": {
      "text/plain": [
       "True"
      ]
     },
     "execution_count": 4,
     "metadata": {},
     "output_type": "execute_result"
    }
   ],
   "source": [
    "10 != 5\n"
   ]
  },
  {
   "cell_type": "code",
   "execution_count": 5,
   "id": "f85f7e47-f9f0-494a-b22c-3e2a612d2ada",
   "metadata": {},
   "outputs": [
    {
     "name": "stdout",
     "output_type": "stream",
     "text": [
      "False\n",
      "True\n"
     ]
    }
   ],
   "source": [
    "#less operator and less than operator\n",
    "print(10<5)\n",
    "print(4<=5)\n",
    "#similarly you can use greater than in python"
   ]
  },
  {
   "cell_type": "code",
   "execution_count": 6,
   "id": "aa1b6100-454b-4015-b6ce-0eab974b915e",
   "metadata": {},
   "outputs": [
    {
     "name": "stdout",
     "output_type": "stream",
     "text": [
      "10 is even number\n"
     ]
    }
   ],
   "source": [
    "x=10\n",
    "if x%2==0 :\n",
    "    print(x,\"is even number\")\n",
    "else:\n",
    "    print(x,\"is odd number\")\n",
    "    \n",
    "        \n",
    "    "
   ]
  },
  {
   "cell_type": "code",
   "execution_count": 9,
   "id": "3033a35e-598a-4484-8cc6-dbbf7719f90a",
   "metadata": {},
   "outputs": [
    {
     "name": "stdin",
     "output_type": "stream",
     "text": [
      "Enter your age 21\n"
     ]
    },
    {
     "name": "stdout",
     "output_type": "stream",
     "text": [
      "Sorry not invited\n"
     ]
    }
   ],
   "source": [
    "x=int(input(\"Enter your age\"))\n",
    "if x>=60 or x<=18:\n",
    "   print(\"Welcome to party\")\n",
    "else:\n",
    "   print(\"Sorry not invited\")  \n"
   ]
  },
  {
   "cell_type": "code",
   "execution_count": 11,
   "id": "7f88265f-0140-41de-9189-461c6b0abd0c",
   "metadata": {},
   "outputs": [
    {
     "name": "stdout",
     "output_type": "stream",
     "text": [
      "Flat 350 discount\n"
     ]
    }
   ],
   "source": [
    "#there is also elif operator\n",
    "#and ise main khayal identation ka hi rkhna h\n",
    "shopping_total=3100\n",
    "if shopping_total>=5000 :\n",
    "   print('Flat 500 discount')\n",
    "elif shopping_total>=3000 :\n",
    "   print('Flat 350 discount')\n",
    "else :\n",
    "   print('Zero Discount')\n",
    "\n",
    "    \n"
   ]
  },
  {
   "cell_type": "code",
   "execution_count": 16,
   "id": "1303d9e3-7519-430f-ac45-a8cee341bcb0",
   "metadata": {},
   "outputs": [
    {
     "name": "stdin",
     "output_type": "stream",
     "text": [
      "Enter the year 2022\n"
     ]
    },
    {
     "name": "stdout",
     "output_type": "stream",
     "text": [
      "World cup is not Played in 2022\n"
     ]
    }
   ],
   "source": [
    "#use cases of in operator\n",
    "world_cups ={ 2019:['England','New Zealand'],2015:['Australia','New Zealand'],2011:['India','Srilanka'],2007:['India','Pakistan']}\n",
    "year = int(input(\"Enter the year\"))\n",
    "if year in world_cups :\n",
    "    if 'India' in world_cups[year] :\n",
    "       print(\"India made it to the finals\")\n",
    "    else:\n",
    "       print(\"India not in finals\")\n",
    "else:\n",
    "   print(\"World cup is not Played in\",year)\n",
    "    "
   ]
  },
  {
   "cell_type": "code",
   "execution_count": null,
   "id": "d2cc1181-8657-4f36-bce3-a00ce31a1363",
   "metadata": {},
   "outputs": [],
   "source": []
  }
 ],
 "metadata": {
  "kernelspec": {
   "display_name": "Python 3 (ipykernel)",
   "language": "python",
   "name": "python3"
  },
  "language_info": {
   "codemirror_mode": {
    "name": "ipython",
    "version": 3
   },
   "file_extension": ".py",
   "mimetype": "text/x-python",
   "name": "python",
   "nbconvert_exporter": "python",
   "pygments_lexer": "ipython3",
   "version": "3.10.8"
  }
 },
 "nbformat": 4,
 "nbformat_minor": 5
}
