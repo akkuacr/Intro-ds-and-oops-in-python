{
 "cells": [
  {
   "cell_type": "code",
   "execution_count": 1,
   "id": "b116cf3c-0c4d-45f7-b0d2-b2b6a17cad05",
   "metadata": {},
   "outputs": [
    {
     "name": "stdout",
     "output_type": "stream",
     "text": [
      "['Python', 14, 'Mumbai']\n"
     ]
    }
   ],
   "source": [
    "t=[\"Python\",14,\"Mumbai\"]\n",
    "print(t)"
   ]
  },
  {
   "cell_type": "code",
   "execution_count": 2,
   "id": "771abca2-d0a4-43f0-9a95-f03b362e599d",
   "metadata": {},
   "outputs": [
    {
     "name": "stdout",
     "output_type": "stream",
     "text": [
      "[1, 14, 'Mumbai']\n"
     ]
    }
   ],
   "source": [
    "t[0]=1\n",
    "print(t)"
   ]
  },
  {
   "cell_type": "code",
   "execution_count": 3,
   "id": "4f9e2370-fd55-4b9c-bb97-66e4ba692818",
   "metadata": {},
   "outputs": [
    {
     "data": {
      "text/plain": [
       "'Mumbai'"
      ]
     },
     "execution_count": 3,
     "metadata": {},
     "output_type": "execute_result"
    }
   ],
   "source": [
    "t[-1]"
   ]
  },
  {
   "cell_type": "code",
   "execution_count": 5,
   "id": "dff2aff1-920d-43a4-a0a9-68e93f13770a",
   "metadata": {},
   "outputs": [
    {
     "data": {
      "text/plain": [
       "[1, 14]"
      ]
     },
     "execution_count": 5,
     "metadata": {},
     "output_type": "execute_result"
    }
   ],
   "source": [
    "#Slicing in Tuple\n",
    "t[0:2]\n"
   ]
  },
  {
   "cell_type": "code",
   "execution_count": 6,
   "id": "4774965b-d5f7-4efe-b70d-03de62dab91d",
   "metadata": {},
   "outputs": [
    {
     "data": {
      "text/plain": [
       "[14, 'Mumbai']"
      ]
     },
     "execution_count": 6,
     "metadata": {},
     "output_type": "execute_result"
    }
   ],
   "source": [
    "#dlicing tuple last 2 elements\n",
    "t[-2:]\n"
   ]
  },
  {
   "cell_type": "code",
   "execution_count": 7,
   "id": "933bbfb9-3bda-4dbe-8077-38d6458aa615",
   "metadata": {},
   "outputs": [
    {
     "data": {
      "text/plain": [
       "3"
      ]
     },
     "execution_count": 7,
     "metadata": {},
     "output_type": "execute_result"
    }
   ],
   "source": [
    "#length function \n",
    "len(t)\n"
   ]
  },
  {
   "cell_type": "code",
   "execution_count": 8,
   "id": "1a78ac4b-d71c-4c0c-9024-03d4ab68f77a",
   "metadata": {},
   "outputs": [
    {
     "name": "stdout",
     "output_type": "stream",
     "text": [
      "['This', 'is', 'Session', 'on', 'Tuples']\n"
     ]
    }
   ],
   "source": [
    "tup1=[\"This\",\"is\",\"Session\"]\n",
    "tup2=[\"on\",\"Tuples\"]\n",
    "tup3=tup1+tup2\n",
    "print(tup3)\n"
   ]
  },
  {
   "cell_type": "code",
   "execution_count": 12,
   "id": "741ff717-0687-4e4d-910e-916f09284835",
   "metadata": {},
   "outputs": [
    {
     "data": {
      "text/plain": [
       "9"
      ]
     },
     "execution_count": 12,
     "metadata": {},
     "output_type": "execute_result"
    }
   ],
   "source": [
    "t3=[9,9,101,19101]\n",
    "min(t3)\n",
    "\n"
   ]
  },
  {
   "cell_type": "code",
   "execution_count": 13,
   "id": "e0d26659-20df-4f8b-adc7-e372461e108d",
   "metadata": {},
   "outputs": [],
   "source": [
    "t3[2]=\"Hard Rock\"\n"
   ]
  },
  {
   "cell_type": "code",
   "execution_count": 14,
   "id": "a2708c23-40fe-4d2e-99c9-ccf58e5e59a3",
   "metadata": {},
   "outputs": [
    {
     "data": {
      "text/plain": [
       "[9, 9, 'Hard Rock', 19101]"
      ]
     },
     "execution_count": 14,
     "metadata": {},
     "output_type": "execute_result"
    }
   ],
   "source": [
    "t3"
   ]
  },
  {
   "cell_type": "code",
   "execution_count": 17,
   "id": "c9fa91b6-0552-4015-814c-34998f52ea96",
   "metadata": {},
   "outputs": [
    {
     "data": {
      "text/plain": [
       "(1, 1, 2, 2, 2, 3, 4, 4)"
      ]
     },
     "execution_count": 17,
     "metadata": {},
     "output_type": "execute_result"
    }
   ],
   "source": [
    "#sorting  a tuple \n",
    "t3=(1,2,2,3,4,4,2,1)\n",
    "sorted_tuple=sorted(t3)\n",
    "tuple(sorted_tuple)\n",
    "    "
   ]
  },
  {
   "cell_type": "code",
   "execution_count": 18,
   "id": "68914bba-26b5-42ff-b12b-39b899ce5e3a",
   "metadata": {},
   "outputs": [
    {
     "data": {
      "text/plain": [
       "'Java'"
      ]
     },
     "execution_count": 18,
     "metadata": {},
     "output_type": "execute_result"
    }
   ],
   "source": [
    " #nested tuples\n",
    " t=(1,5,'Disco',('Python','Java'))\n",
    "t[3][1]"
   ]
  },
  {
   "cell_type": "code",
   "execution_count": 19,
   "id": "1a51afb6-06d4-49cf-b37e-12eb36b0e611",
   "metadata": {},
   "outputs": [
    {
     "data": {
      "text/plain": [
       "'Python'"
      ]
     },
     "execution_count": 19,
     "metadata": {},
     "output_type": "execute_result"
    }
   ],
   "source": [
    "t[3][0]"
   ]
  },
  {
   "cell_type": "code",
   "execution_count": 20,
   "id": "7361cf8c-a5c2-4736-a0c2-ea2f0335b7ce",
   "metadata": {},
   "outputs": [
    {
     "name": "stdout",
     "output_type": "stream",
     "text": [
      "1\n"
     ]
    }
   ],
   "source": [
    "#packing and unpacking in tuple\n",
    "t=(1,2,3,4)\n",
    "(a,b,c,d)=t\n",
    "print(a)"
   ]
  },
  {
   "cell_type": "code",
   "execution_count": 21,
   "id": "cb30c009-b426-4c99-8081-c869ccb8ad77",
   "metadata": {},
   "outputs": [
    {
     "name": "stdout",
     "output_type": "stream",
     "text": [
      "['__add__', '__class__', '__class_getitem__', '__contains__', '__delattr__', '__dir__', '__doc__', '__eq__', '__format__', '__ge__', '__getattribute__', '__getitem__', '__getnewargs__', '__gt__', '__hash__', '__init__', '__init_subclass__', '__iter__', '__le__', '__len__', '__lt__', '__mul__', '__ne__', '__new__', '__reduce__', '__reduce_ex__', '__repr__', '__rmul__', '__setattr__', '__sizeof__', '__str__', '__subclasshook__', 'count', 'index']\n"
     ]
    }
   ],
   "source": [
    "# dir() - to view the attributes or methods of an object\n",
    "t=()\n",
    "print(dir(t))"
   ]
  },
  {
   "cell_type": "code",
   "execution_count": null,
   "id": "aaf56a00-d77c-46f9-8ce5-396c5334dfe8",
   "metadata": {},
   "outputs": [],
   "source": []
  }
 ],
 "metadata": {
  "kernelspec": {
   "display_name": "Python 3 (ipykernel)",
   "language": "python",
   "name": "python3"
  },
  "language_info": {
   "codemirror_mode": {
    "name": "ipython",
    "version": 3
   },
   "file_extension": ".py",
   "mimetype": "text/x-python",
   "name": "python",
   "nbconvert_exporter": "python",
   "pygments_lexer": "ipython3",
   "version": "3.10.8"
  }
 },
 "nbformat": 4,
 "nbformat_minor": 5
}
