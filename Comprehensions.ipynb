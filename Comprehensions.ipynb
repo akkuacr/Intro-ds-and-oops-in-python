{
 "cells": [
  {
   "cell_type": "code",
   "execution_count": null,
   "id": "fe45fcec-885c-45ac-98fb-1585f52a002d",
   "metadata": {},
   "outputs": [],
   "source": [
    "#Comprehensions\n",
    "1.Provide a concise way to Construct sequences(lists,sets,dictionaries,etc)\n",
    "2. Types of comprehensions\n",
    "a. List comprehension\n",
    "b. Dictionary comprehension\n",
    "c. Set comprehension\n",
    "\n",
    "\n"
   ]
  },
  {
   "cell_type": "code",
   "execution_count": 1,
   "id": "3d86ffb8-a1c4-443a-acde-3a36e12f73df",
   "metadata": {},
   "outputs": [
    {
     "name": "stdout",
     "output_type": "stream",
     "text": [
      "[11, 5, 4, 14]\n"
     ]
    }
   ],
   "source": [
    "l=[\"automobiles\",\"Honda\",\"Benz\",\"Morria Garages\"]\n",
    "l2=[]\n",
    "\n",
    "for i in l:\n",
    "    l2.append(len(i))\n",
    "print(l2)    \n",
    "\n",
    "    \n",
    "\n"
   ]
  },
  {
   "cell_type": "code",
   "execution_count": 3,
   "id": "4ca03884-75dd-487a-890c-120f512729d5",
   "metadata": {},
   "outputs": [
    {
     "name": "stdout",
     "output_type": "stream",
     "text": [
      "[11, 5, 4, 14]\n"
     ]
    }
   ],
   "source": [
    "#The functional approach to do the same task\n",
    "l2=[len(i) for i in l]\n",
    "print(l2)"
   ]
  },
  {
   "cell_type": "code",
   "execution_count": 7,
   "id": "f1da6e41-165e-42c0-9761-057e013e38fd",
   "metadata": {},
   "outputs": [
    {
     "name": "stdout",
     "output_type": "stream",
     "text": [
      "-5\n",
      "-5\n",
      "-5\n",
      "-5\n",
      "-5\n"
     ]
    }
   ],
   "source": [
    "\n",
    "#iterating over l1 and l2 simultaneously\n",
    "l1=[1,2,3,4,5]\n",
    "l2=[6,7,8,9,10] \n",
    "for i1,i2 in zip(l1,l2):\n",
    "   print(i1-i2)\n"
   ]
  },
  {
   "cell_type": "code",
   "execution_count": 8,
   "id": "6090b12c-be3f-47c5-8333-7de99182fd6c",
   "metadata": {},
   "outputs": [
    {
     "name": "stdout",
     "output_type": "stream",
     "text": [
      "{'automobiles': 11, 'Honda': 5, 'Benz': 4, 'Suzuki': 6, 'Morris Garage': 13}\n"
     ]
    }
   ],
   "source": [
    "#Dictionary Comprehension\n",
    "\n",
    "l1=[\"automobiles\",\"Honda\",\"Benz\",\"Suzuki\",\"Morris Garage\"]\n",
    "d={i: len(i) for i in l1}\n",
    "print(d)\n",
    "\n"
   ]
  },
  {
   "cell_type": "code",
   "execution_count": 11,
   "id": "818cad11-17a0-4ecb-8f76-2d827da5fa0a",
   "metadata": {},
   "outputs": [
    {
     "name": "stdin",
     "output_type": "stream",
     "text": [
      "Enter a word akash\n"
     ]
    },
    {
     "data": {
      "text/plain": [
       "{'a'}"
      ]
     },
     "execution_count": 11,
     "metadata": {},
     "output_type": "execute_result"
    }
   ],
   "source": [
    "word = input(\"Enter a word\")\n",
    "vowels = {i for i in word if i in \"aeiou\"}\n",
    "vowels"
   ]
  },
  {
   "cell_type": "code",
   "execution_count": null,
   "id": "2a98e50e-8a6c-48c7-ad92-23acd9c8b69d",
   "metadata": {},
   "outputs": [],
   "source": []
  }
 ],
 "metadata": {
  "kernelspec": {
   "display_name": "Python 3 (ipykernel)",
   "language": "python",
   "name": "python3"
  },
  "language_info": {
   "codemirror_mode": {
    "name": "ipython",
    "version": 3
   },
   "file_extension": ".py",
   "mimetype": "text/x-python",
   "name": "python",
   "nbconvert_exporter": "python",
   "pygments_lexer": "ipython3",
   "version": "3.10.8"
  }
 },
 "nbformat": 4,
 "nbformat_minor": 5
}
